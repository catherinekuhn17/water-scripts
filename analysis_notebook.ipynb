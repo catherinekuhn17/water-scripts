{
 "cells": [
  {
   "cell_type": "markdown",
   "id": "9a441ab0",
   "metadata": {
    "heading_collapsed": true
   },
   "source": [
    "# Imports "
   ]
  },
  {
   "cell_type": "code",
   "execution_count": 29,
   "id": "ab593358",
   "metadata": {
    "ExecuteTime": {
     "end_time": "2022-03-27T17:23:12.095762Z",
     "start_time": "2022-03-27T17:23:12.081206Z"
    },
    "hidden": true
   },
   "outputs": [],
   "source": [
    "import pkg_resources  \n",
    "import os.path\n",
    "\n",
    "import os\n",
    "import sys\n",
    "import numpy as np\n",
    "import pandas as pd\n",
    "from argparse import ArgumentParser\n",
    "from qfit.structure import Structure\n",
    "import glob\n",
    "from multiprocessing import Pool\n",
    "from Bio.PDB import PDBParser\n",
    "from Bio.PDB.DSSP import DSSP\n",
    "import matplotlib.pyplot as plt\n",
    "from scipy.spatial.distance import cdist\n",
    "\n",
    "import sklearn\n",
    "from sklearn.datasets import make_blobs\n",
    "from sklearn.cluster import KMeans\n",
    "from sklearn.metrics import silhouette_score\n",
    "from sklearn.preprocessing import StandardScaler\n",
    "from sklearn.decomposition import PCA\n",
    "from scipy.spatial.transform import Rotation as R\n",
    "from matplotlib import cm\n",
    "from scipy.signal import argrelextrema\n",
    "\n",
    "from sklearn.cluster import MeanShift\n",
    "from sklearn.cluster import  estimate_bandwidth\n",
    "from scipy import stats\n",
    "import matplotlib.pyplot as plt\n",
    "from mpl_toolkits.mplot3d import Axes3D\n",
    "\n",
    "import sklearn\n",
    "from sklearn.model_selection  import LeaveOneOut\n",
    "from sklearn.neighbors import KernelDensity\n",
    "from sklearn.model_selection import RandomizedSearchCV\n",
    "from sklearn.model_selection import GridSearchCV\n",
    "from sklearn.model_selection import train_test_split\n",
    "from DICT4A import DICT4A"
   ]
  },
  {
   "cell_type": "markdown",
   "id": "f31b76d9",
   "metadata": {},
   "source": [
    "# functions"
   ]
  },
  {
   "cell_type": "code",
   "execution_count": 10,
   "id": "b724f116",
   "metadata": {
    "ExecuteTime": {
     "end_time": "2022-03-27T16:49:13.173580Z",
     "start_time": "2022-03-27T16:49:13.166983Z"
    },
    "code_folding": [
     0
    ]
   },
   "outputs": [],
   "source": [
    "def new_dihedral(p):\n",
    "    \"\"\"\n",
    "    Function for calculated the dihedral of a given set of 4 points.\n",
    "    (not my function)\n",
    "    Parameters \n",
    "    ----------\n",
    "    p : nd.array, shape=(4, 3)\n",
    "        4 points you want to calculate a dihedral from\n",
    "    Returns\n",
    "    -------\n",
    "    dih_ang : float\n",
    "        calculated dihedral angle\n",
    "    \"\"\"\n",
    "    p0 = p[0]\n",
    "    p1 = p[1]\n",
    "    p2 = p[2]\n",
    "    p3 = p[3]\n",
    "\n",
    "    b0 = -1.0*(p1 - p0)\n",
    "    b1 = p2 - p1\n",
    "    b2 = p3 - p2\n",
    "    b1 /= np.linalg.norm(b1)\n",
    "\n",
    "    v = b0 - np.dot(b0, b1)*b1\n",
    "    w = b2 - np.dot(b2, b1)*b1\n",
    "    x = np.dot(v, w)\n",
    "    y = np.dot(np.cross(b1, v), w)\n",
    "    dih_ang = np.degrees(np.arctan2(y, x))\n",
    "    return dih_ang"
   ]
  },
  {
   "cell_type": "code",
   "execution_count": 9,
   "id": "d9edac78",
   "metadata": {
    "ExecuteTime": {
     "end_time": "2022-03-27T16:49:00.405277Z",
     "start_time": "2022-03-27T16:49:00.399530Z"
    },
    "code_folding": [
     0
    ]
   },
   "outputs": [],
   "source": [
    "def rigid_transform_3D(A, B):\n",
    "    '''\n",
    "    * Not my function *\n",
    "    from : https://github.com/nghiaho12/rigid_transform_3D/blob/master/rigid_transform_3D.py\n",
    "    function for calculating the optimal rotation and transformation matrix for a set of 4 points\n",
    "    onto another set of 4 points\n",
    "    Input: expects 3xN matrix of points\n",
    "    Returns R,t\n",
    "        R = 3x3 rotation matrix\n",
    "        t = 3x1 column vector\n",
    "    '''\n",
    "    assert A.shape == B.shape\n",
    "\n",
    "    num_rows, num_cols = A.shape\n",
    "    if num_rows != 3:\n",
    "        raise Exception(f\"matrix A is not 3xN, it is {num_rows}x{num_cols}\")\n",
    "\n",
    "    num_rows, num_cols = B.shape\n",
    "    if num_rows != 3:\n",
    "        raise Exception(f\"matrix B is not 3xN, it is {num_rows}x{num_cols}\")\n",
    "\n",
    "    # find mean column wise\n",
    "    centroid_A = np.mean(A, axis=1)\n",
    "    centroid_B = np.mean(B, axis=1)\n",
    "\n",
    "    # ensure centroids are 3x1\n",
    "    centroid_A = centroid_A.reshape(-1, 1)\n",
    "    centroid_B = centroid_B.reshape(-1, 1)\n",
    "\n",
    "    # subtract mean\n",
    "    Am = A - centroid_A\n",
    "    Bm = B - centroid_B\n",
    "\n",
    "    H = Am @ np.transpose(Bm)\n",
    "\n",
    "    # find rotation\n",
    "    U, S, Vt = np.linalg.svd(H)\n",
    "    R = Vt.T @ U.T\n",
    "\n",
    "    t = -R @ centroid_A + centroid_B\n",
    "    \n",
    "    return R, t"
   ]
  },
  {
   "cell_type": "code",
   "execution_count": 138,
   "id": "4f014c6c",
   "metadata": {
    "ExecuteTime": {
     "end_time": "2022-03-27T19:30:43.394427Z",
     "start_time": "2022-03-27T19:30:43.381578Z"
    },
    "code_folding": []
   },
   "outputs": [],
   "source": [
    "def get_new_coords(all_coord_info,\n",
    "                   res, \n",
    "                   center_coords, \n",
    "                   min_ang, \n",
    "                   spread, \n",
    "                   all_density_vals, \n",
    "                   cont_dict,\n",
    "                   cutoff_idx,\n",
    "                   all_xyz_coords,\n",
    "                   rel_b_list,\n",
    "                   q_list,\n",
    "                   use_cutoff=True):\n",
    "    # initialize output arrays\n",
    "    new_center_coords = np.array([])\n",
    "    new_all_xyz_coords = np.array([])\n",
    "    dens_v_all = np.array([])\n",
    "    new_all_density_vals = np.array([])\n",
    "    b_all = np.array([])\n",
    "    q_all = np.array([])\n",
    "    new_spread = np.array([])\n",
    "    for atom_set_spec, atom_set_gen in DICT4A[res.resn[0]].items(): # go through each set of 4 atoms in this residue\n",
    "        n_idx=[]\n",
    "        contin = True\n",
    "        for at_s in atom_set_spec:\n",
    "            if at_s in list(res.name):\n",
    "                n_idx.append(list(res.name).index(at_s))\n",
    "            else:\n",
    "                contin = False\n",
    "        if contin == True:\n",
    "            coords = res.coor[n_idx]\n",
    "            dih_val = new_dihedral(np.array(coords))\n",
    "            bucket=[]\n",
    "            # if dih cluster is just one peak\n",
    "            if len(np.array(min_ang[tuple(atom_set_gen)])) == 0:\n",
    "                dih_id = 0\n",
    "            else:\n",
    "                diff_from_mins = dih_val - np.array(min_ang[tuple(atom_set_gen)])\n",
    "                closest_min_idx = np.argsort(abs(diff_from_mins))[0]\n",
    "                if diff_from_mins[closest_min_idx]>0:\n",
    "                    bucket.append(closest_min_idx+1)\n",
    "                else:\n",
    "                    bucket.append(closest_min_idx)\n",
    "                if cont_dict[tuple(atom_set_gen)]:\n",
    "                    bucket = np.array(bucket) + (np.array(bucket)==0)*(len(min_ang[tuple(atom_set_gen)]))\n",
    "                dih_id = bucket[0]\n",
    "            if use_cutoff:\n",
    "                idx = cutoff_idx[tuple(atom_set_gen)][dih_id]\n",
    "                all_wat_xyz_coords = np.array(all_xyz_coords[tuple(atom_set_gen)][dih_id])[idx]\n",
    "                dens_vals = np.array(all_density_vals[tuple(atom_set_gen)][dih_id])[idx]\n",
    "                bvals = np.array(rel_b_list[tuple(atom_set_gen)][dih_id])[idx]\n",
    "                qvals = np.array(q_list[tuple(atom_set_gen)][dih_id])[idx]\n",
    "            else:\n",
    "                all_wat_xyz_coords = np.array(all_xyz_coords[tuple(atom_set_gen)][dih_id])\n",
    "                dens_vals = np.array(all_density_vals[tuple(atom_set_gen)][dih_id])\n",
    "                bvals = np.array(rel_b_list[tuple(atom_set_gen)][dih_id])\n",
    "                qvals = np.array(q_list[tuple(atom_set_gen)][dih_id])\n",
    "            p1 = all_coord_info[tuple(atom_set_gen)][dih_id][0]\n",
    "            wat_centers = center_coords[tuple(atom_set_gen)][dih_id]\n",
    "            sp = spread[tuple(atom_set_gen)][dih_id]\n",
    "\n",
    "\n",
    "            R, t = rigid_transform_3D(np.array(p1).T, np.array(coords).T)\n",
    "\n",
    "            new_center_coords_tmp=[]\n",
    "            new_all_xyz_coords_tmp=[]\n",
    "            new_spread_tmp=[]\n",
    "            for wi, si in zip(wat_centers, sp):\n",
    "                new_spread_tmp.append(si)\n",
    "                new_center_coords_tmp.append((np.dot(R, np.array(wi).T)+t.T)[0]) # use same R and t on waters\n",
    "            for wi in all_wat_xyz_coords:\n",
    "                new_all_xyz_coords_tmp.append((np.dot(R, np.array(wi).T)+t.T)[0]) # use same R and t on waters\n",
    "\n",
    "            new_center_coords = np.append(new_center_coords, new_center_coords_tmp)\n",
    "            new_all_xyz_coords = np.append(new_all_xyz_coords, new_all_xyz_coords_tmp)\n",
    "            dens_v_all = np.append(dens_v_all, dens_vals)\n",
    "            b_all = np.append(b_all, bvals)\n",
    "            q_all = np.append(q_all, qvals)\n",
    "            new_spread = np.append(new_spread, new_spread_tmp)\n",
    "    return new_center_coords, new_all_xyz_coords, dens_v_all, b_all, q_all, new_spread"
   ]
  },
  {
   "cell_type": "code",
   "execution_count": 249,
   "id": "2caa1708",
   "metadata": {
    "ExecuteTime": {
     "end_time": "2022-03-28T00:47:03.875754Z",
     "start_time": "2022-03-28T00:47:03.867674Z"
    },
    "code_folding": [
     0
    ]
   },
   "outputs": [],
   "source": [
    "def build_density_pdb(xyz_coor, fn, density):\n",
    "    listy_wat = {}\n",
    "    count=1\n",
    "    sample = len(density)//10000 + 1\n",
    "    for i, (xi, yi, zi, di) in enumerate(zip(np.array(xyz_coor)[:,0][::sample],\n",
    "                                             np.array(xyz_coor)[:,1][::sample],\n",
    "                                             np.array(xyz_coor)[:,2][::sample], \n",
    "                                        np.array(density)[::sample])):\n",
    "        count=count+1\n",
    "        listy_wat[i] = ['HETATM', str(count), 'O', 'HOH', str(count), str(format(xi, '.3f')), str(format(yi, '.3f')), str(format(zi, '.3f')), '1.00', str(format(di, '.3f')), 'O']\n",
    "\n",
    "    file = fn\n",
    "    file = open(file, \"w\") \n",
    "    for row in list(listy_wat.values()):\n",
    "        file.write(\"{: >1} {: >4} {: >2} {: >5} {: >5} {: >11} {: >7} {: >7} {: >5} {: >5} {: >11}\\n\".format(*row))\n",
    "    file.close()\n",
    "    return"
   ]
  },
  {
   "cell_type": "code",
   "execution_count": 164,
   "id": "0609fcb4",
   "metadata": {
    "ExecuteTime": {
     "end_time": "2022-03-27T20:19:00.870609Z",
     "start_time": "2022-03-27T20:19:00.862057Z"
    },
    "code_folding": [
     0
    ]
   },
   "outputs": [],
   "source": [
    "def build_center_placement_pdb(xyz_coor, pdb_fn, sphere_size_fn, spread):\n",
    "    listy_wat = {}\n",
    "    count=1\n",
    "    sample = len(xyz_coor)//10000 + 1\n",
    "    for i, (xi, yi, zi) in enumerate(zip(np.array(xyz_coor)[:,0][::sample],\n",
    "                                         np.array(xyz_coor)[:,1][::sample],\n",
    "                                         np.array(xyz_coor)[:,2][::sample])):\n",
    "        listy_wat[i] = ['HETATM', str(i+1), 'O', 'HOH', str(i+1), str(format(xi, '.3f')), str(format(yi, '.3f')), str(format(zi, '.3f')), '1.00', '1.00', 'O']\n",
    "    file = pdb_fn\n",
    "    file = open(file, \"w\") \n",
    "    for row in list(listy_wat.values()):\n",
    "        file.write(\"{: >1} {: >4} {: >2} {: >5} {: >5} {: >11} {: >7} {: >7} {: >5} {: >5} {: >11}\\n\".format(*row))\n",
    "    file.close()\n",
    "    with open(sphere_size_fn, 'w') as f:\n",
    "        for i, (pt, rad) in enumerate(zip(xyz_coor, spread)): \n",
    "             f.write('set sphere_scale, %s, resi %s and idk4\\n' % (rad/2, i))\n",
    "    return"
   ]
  },
  {
   "cell_type": "markdown",
   "id": "879705fb",
   "metadata": {},
   "source": [
    "# load in data"
   ]
  },
  {
   "cell_type": "code",
   "execution_count": 3,
   "id": "0008756f",
   "metadata": {
    "ExecuteTime": {
     "end_time": "2022-03-27T16:40:41.538169Z",
     "start_time": "2022-03-27T16:40:41.535255Z"
    }
   },
   "outputs": [],
   "source": [
    "os.chdir('/Users/catherinekuhn/Desktop/rotations/fraser/scripts/out')"
   ]
  },
  {
   "cell_type": "code",
   "execution_count": 180,
   "id": "7e962661",
   "metadata": {
    "ExecuteTime": {
     "end_time": "2022-03-27T21:44:31.527441Z",
     "start_time": "2022-03-27T21:44:31.220978Z"
    }
   },
   "outputs": [],
   "source": [
    "pt=50\n",
    "length = 50000\n",
    "center_coords = np.load(f'center_coor_{length}_{pt}.npy',allow_pickle='TRUE').item()\n",
    "cont_dict = np.load('cont_dict.npy',allow_pickle='TRUE').item()\n",
    "cutoff_idx = np.load(f'cutoff_idx_{length}_{pt}.npy',allow_pickle='TRUE').item()\n",
    "cutoff_idx_all = np.load(f'cutoff_idx_{length}_all.npy',allow_pickle='TRUE').item()\n",
    "all_density_vals = np.load(f'density_vals_{length}_{pt}.npy',`ballow_pickle='TRUE').item()\n",
    "labels = np.load(f'labels_{length}_{pt}.npy',allow_pickle='TRUE').item()\n",
    "spread = np.load(f'spread_{length}_{pt}.npy',allow_pickle='TRUE').item()\n",
    "min_ang = np.load('min_ang.npy',allow_pickle='TRUE').item()\n",
    "all_coord_info = np.load('dih_info.npy',allow_pickle='TRUE').item()\n",
    "all_xyz_coords = np.load(f'all_xyz_coords_{length}_{pt}.npy',allow_pickle='TRUE').item()\n",
    "rel_b_list = np.load(f'rel_b_list_{length}_{pt}.npy',allow_pickle='TRUE').item()\n",
    "q_list = np.load(f'q_list_{length}_{pt}.npy',allow_pickle='TRUE').item()"
   ]
  },
  {
   "cell_type": "code",
   "execution_count": 222,
   "id": "cb51f88b",
   "metadata": {
    "ExecuteTime": {
     "end_time": "2022-03-27T21:56:08.346767Z",
     "start_time": "2022-03-27T21:56:08.313008Z"
    }
   },
   "outputs": [],
   "source": [
    "all_dens_vals=np.array([])\n",
    "for atom_set, atom_set_val in all_density_vals.items():\n",
    "    for dih, dens_val in atom_set_val.items():\n",
    "        all_dens_vals = np.append(all_dens_vals, dens_val)\n",
    "        \n",
    "all_b_vals=np.array([])\n",
    "for atom_set, atom_set_val in rel_b_list.items():\n",
    "    for dih, b_val in atom_set_val.items():\n",
    "        all_b_vals = np.append(all_b_vals, b_val)\n",
    "\n",
    "all_q_vals=np.array([])\n",
    "for atom_set, atom_set_val in q_list.items():\n",
    "    for dih, q_val in atom_set_val.items():\n",
    "        all_q_vals = np.append(all_q_vals, q_val)"
   ]
  },
  {
   "cell_type": "code",
   "execution_count": 221,
   "id": "de59c757",
   "metadata": {
    "ExecuteTime": {
     "end_time": "2022-03-27T21:55:39.631135Z",
     "start_time": "2022-03-27T21:55:39.397583Z"
    }
   },
   "outputs": [
    {
     "data": {
      "image/png": "[encoded data removed]",
      "text/plain": [
       "<Figure size 432x288 with 1 Axes>"
      ]
     },
     "metadata": {
      "needs_background": "light"
     },
     "output_type": "display_data"
    }
   ],
   "source": [
    "# this is only on a very small subset of the data\n",
    "plt.hist(np.exp(all_dens_vals)[all_b_vals<1], density=True, alpha=.5, bins=30)\n",
    "plt.hist(np.exp(all_dens_vals)[all_b_vals>3], density=True, alpha=.5, bins=30)\n",
    "plt.legend(['b val < 1', 'b val > 2'], fontsize=15)\n",
    "plt.title('Comparing density with different normalized b values', fontsize=15)\n",
    "plt.xlabel('density values', fontsize=20)\n",
    "plt.show()"
   ]
  },
  {
   "cell_type": "code",
   "execution_count": 226,
   "id": "9aa449ab",
   "metadata": {
    "ExecuteTime": {
     "end_time": "2022-03-27T21:56:48.962640Z",
     "start_time": "2022-03-27T21:56:48.720231Z"
    }
   },
   "outputs": [
    {
     "data": {
      "image/png": "[encoded data removed]",
      "text/plain": [
       "<Figure size 432x288 with 1 Axes>"
      ]
     },
     "metadata": {
      "needs_background": "light"
     },
     "output_type": "display_data"
    }
   ],
   "source": [
    "plt.hist(np.exp(all_dens_vals)[all_q_vals==1], density=True, alpha=.5, bins=30)\n",
    "plt.hist(np.exp(all_dens_vals)[all_q_vals<1], density=True, alpha=.5, bins=30)\n",
    "plt.legend(['q val = 1', 'q val < 1'], fontsize=15)\n",
    "plt.title('Comparing density with different occupancy values', fontsize=15)\n",
    "plt.xlabel('density values', fontsize=20)\n",
    "plt.show()"
   ]
  },
  {
   "cell_type": "code",
   "execution_count": 25,
   "id": "d1e27363",
   "metadata": {
    "ExecuteTime": {
     "end_time": "2022-03-27T17:21:24.244493Z",
     "start_time": "2022-03-27T17:21:24.154182Z"
    }
   },
   "outputs": [],
   "source": [
    "s = Structure.fromfile('/Users/catherinekuhn/Downloads/3us6.pdb').reorder()"
   ]
  },
  {
   "cell_type": "code",
   "execution_count": 26,
   "id": "38d7225b",
   "metadata": {
    "ExecuteTime": {
     "end_time": "2022-03-27T17:21:37.881423Z",
     "start_time": "2022-03-27T17:21:37.734021Z"
    }
   },
   "outputs": [],
   "source": [
    "res = list(s.residues)[0]"
   ]
  },
  {
   "cell_type": "code",
   "execution_count": 181,
   "id": "7b93c040",
   "metadata": {
    "ExecuteTime": {
     "end_time": "2022-03-27T21:44:37.586331Z",
     "start_time": "2022-03-27T21:44:37.430543Z"
    }
   },
   "outputs": [],
   "source": [
    "new_coords, new_all_xyz_coords, dens_v_all, b_all, q_all, new_spread = get_new_coords(all_coord_info,\n",
    "                                                                                       res, \n",
    "                                                                                       center_coords, \n",
    "                                                                                       min_ang, \n",
    "                                                                                       spread, \n",
    "                                                                                       all_density_vals, \n",
    "                                                                                       cont_dict,\n",
    "                                                                                       cutoff_idx,\n",
    "                                                                                       all_xyz_coords,\n",
    "                                                                                       rel_b_list,\n",
    "                                                                                       q_list,\n",
    "                                                                                       use_cutoff=False\n",
    "                                                                                     )"
   ]
  },
  {
   "cell_type": "code",
   "execution_count": null,
   "id": "41ef45ab",
   "metadata": {},
   "outputs": [],
   "source": []
  }
 ],
 "metadata": {
  "kernelspec": {
   "display_name": "Python 3",
   "language": "python",
   "name": "python3"
  },
  "language_info": {
   "codemirror_mode": {
    "name": "ipython",
    "version": 3
   },
   "file_extension": ".py",
   "mimetype": "text/x-python",
   "name": "python",
   "nbconvert_exporter": "python",
   "pygments_lexer": "ipython3",
   "version": "3.8.8"
  },
  "toc": {
   "base_numbering": 1,
   "nav_menu": {},
   "number_sections": true,
   "sideBar": true,
   "skip_h1_title": false,
   "title_cell": "Table of Contents",
   "title_sidebar": "Contents",
   "toc_cell": false,
   "toc_position": {},
   "toc_section_display": true,
   "toc_window_display": false
  }
 },
 "nbformat": 4,
 "nbformat_minor": 5
}
