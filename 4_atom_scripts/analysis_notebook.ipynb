{
 "cells": [
  {
   "cell_type": "markdown",
   "id": "9a441ab0",
   "metadata": {
    "heading_collapsed": true
   },
   "source": [
    "# Imports "
   ]
  },
  {
   "cell_type": "code",
   "execution_count": 126,
   "id": "ab593358",
   "metadata": {
    "ExecuteTime": {
     "end_time": "2022-04-01T06:28:40.710751Z",
     "start_time": "2022-04-01T06:28:40.700933Z"
    },
    "hidden": true
   },
   "outputs": [],
   "source": [
    "import os.path\n",
    "import os\n",
    "import numpy as np\n",
    "import pandas as pd\n",
    "from qfit.structure import Structure\n",
    "import glob\n",
    "from multiprocessing import Pool\n",
    "import matplotlib.pyplot as plt\n",
    "from matplotlib import cm\n",
    "from mpl_toolkits.mplot3d import Axes3D\n",
    "from scipy.spatial.distance import cdist\n",
    "from scipy.spatial.transform import Rotation as R\n",
    "from scipy.signal import argrelextrema\n",
    "from scipy import stats\n",
    "import sklearn\n",
    "from sklearn.cluster import MeanShift\n",
    "from sklearn.cluster import  estimate_bandwidth\n",
    "from sklearn.model_selection  import LeaveOneOut\n",
    "from sklearn.neighbors import KernelDensity\n",
    "from sklearn.model_selection import RandomizedSearchCV\n",
    "from sklearn.model_selection import GridSearchCV\n",
    "from sklearn.model_selection import train_test_split\n",
    "from DICT4A import DICT4A\n",
    "from DICT4A_ALLAT import DICT4A_ALLAT"
   ]
  },
  {
   "cell_type": "markdown",
   "id": "f31b76d9",
   "metadata": {
    "heading_collapsed": true
   },
   "source": [
    "# functions"
   ]
  },
  {
   "cell_type": "code",
   "execution_count": 40,
   "id": "b724f116",
   "metadata": {
    "ExecuteTime": {
     "end_time": "2022-03-31T23:02:59.853048Z",
     "start_time": "2022-03-31T23:02:59.848374Z"
    },
    "code_folding": [
     0
    ],
    "hidden": true
   },
   "outputs": [],
   "source": [
    "def new_dihedral(p):\n",
    "    \"\"\"\n",
    "    Function for calculated the dihedral of a given set of 4 points.\n",
    "    (not my function)\n",
    "    Parameters \n",
    "    ----------\n",
    "    p : nd.array, shape=(4, 3)\n",
    "        4 points you want to calculate a dihedral from\n",
    "    Returns\n",
    "    -------\n",
    "    dih_ang : float\n",
    "        calculated dihedral angle\n",
    "    \"\"\"\n",
    "    p0 = p[0]\n",
    "    p1 = p[1]\n",
    "    p2 = p[2]\n",
    "    p3 = p[3]\n",
    "\n",
    "    b0 = -1.0*(p1 - p0)\n",
    "    b1 = p2 - p1\n",
    "    b2 = p3 - p2\n",
    "    b1 /= np.linalg.norm(b1)\n",
    "\n",
    "    v = b0 - np.dot(b0, b1)*b1\n",
    "    w = b2 - np.dot(b2, b1)*b1\n",
    "    x = np.dot(v, w)\n",
    "    y = np.dot(np.cross(b1, v), w)\n",
    "    dih_ang = np.degrees(np.arctan2(y, x))\n",
    "    return dih_ang"
   ]
  },
  {
   "cell_type": "code",
   "execution_count": 41,
   "id": "d9edac78",
   "metadata": {
    "ExecuteTime": {
     "end_time": "2022-03-31T23:03:00.230918Z",
     "start_time": "2022-03-31T23:03:00.225283Z"
    },
    "code_folding": [
     0
    ],
    "hidden": true
   },
   "outputs": [],
   "source": [
    "def rigid_transform_3D(A, B):\n",
    "    '''\n",
    "    * Not my function *\n",
    "    from : https://github.com/nghiaho12/rigid_transform_3D/blob/master/rigid_transform_3D.py\n",
    "    function for calculating the optimal rotation and transformation matrix for a set of 4 points\n",
    "    onto another set of 4 points\n",
    "    Input: expects 3xN matrix of points\n",
    "    Returns R,t\n",
    "        R = 3x3 rotation matrix\n",
    "        t = 3x1 column vector\n",
    "    '''\n",
    "    assert A.shape == B.shape\n",
    "\n",
    "    num_rows, num_cols = A.shape\n",
    "    if num_rows != 3:\n",
    "        raise Exception(f\"matrix A is not 3xN, it is {num_rows}x{num_cols}\")\n",
    "\n",
    "    num_rows, num_cols = B.shape\n",
    "    if num_rows != 3:\n",
    "        raise Exception(f\"matrix B is not 3xN, it is {num_rows}x{num_cols}\")\n",
    "\n",
    "    # find mean column wise\n",
    "    centroid_A = np.mean(A, axis=1)\n",
    "    centroid_B = np.mean(B, axis=1)\n",
    "\n",
    "    # ensure centroids are 3x1\n",
    "    centroid_A = centroid_A.reshape(-1, 1)\n",
    "    centroid_B = centroid_B.reshape(-1, 1)\n",
    "\n",
    "    # subtract mean\n",
    "    Am = A - centroid_A\n",
    "    Bm = B - centroid_B\n",
    "\n",
    "    H = Am @ np.transpose(Bm)\n",
    "\n",
    "    # find rotation\n",
    "    U, S, Vt = np.linalg.svd(H)\n",
    "    R = Vt.T @ U.T\n",
    "\n",
    "    t = -R @ centroid_A + centroid_B\n",
    "    \n",
    "    return R, t"
   ]
  },
  {
   "cell_type": "code",
   "execution_count": 298,
   "id": "4f014c6c",
   "metadata": {
    "ExecuteTime": {
     "end_time": "2022-04-01T08:01:28.183530Z",
     "start_time": "2022-04-01T08:01:28.164584Z"
    },
    "code_folding": [
     0
    ],
    "hidden": true
   },
   "outputs": [],
   "source": [
    "def get_new_coords(all_coord_info, \n",
    "                   res, \n",
    "                   center_coords, \n",
    "                   min_ang, \n",
    "                   spread, \n",
    "                   all_density_vals, \n",
    "                   cont_dict,\n",
    "                   cutoff_idx,\n",
    "                   all_xyz_coords,\n",
    "                   rel_b_list,\n",
    "                   q_list,\n",
    "                   use_cutoff=True):\n",
    "    # initialize output arrays\n",
    "    '''\n",
    "    Function for rotating and translating the water library onto a residue. \n",
    "    Parameters\n",
    "    ----------\n",
    "        all_coord_info : dict with xyz coords for example 4 atoms, all 4 atoms, and all waters\n",
    "        res : residue you are rotating and translating onto\n",
    "        center_coords : xyz of centers of clusters\n",
    "        min_ang : local minima(s) of dihedral distribution \n",
    "        spread : distance of furthers point of cluster to centroid\n",
    "        all_density_vals : density value for each water point\n",
    "        cont_dict : if peak continues from 180 to -180\n",
    "        cutoff_idx : indices of water with density above a specified percentile\n",
    "        all_xyz_coords : all xyz coords of waters\n",
    "        rel_b_list : normalized b factors of waters\n",
    "        q_list : occupancy of waters\n",
    "        use_cutoff : boolean, whether or not to include all waters, or only\n",
    "            ones above a percentile in density value.\n",
    "    Returns\n",
    "    -------\n",
    "        new_center_coords : rotated and translated centers of clusters\n",
    "        new_all_xyz_coords : rotated and translated waters\n",
    "        dens_v_all : all density values\n",
    "        b_all : all b factors\n",
    "        q_all : all occupancy\n",
    "        new_spread : spread around each cluster center\n",
    "    '''\n",
    "    dict_dist = {\n",
    "        'Cm' : 3.0,\n",
    "        'Nm' : 2.4,\n",
    "        'Om' : 2.4,\n",
    "        'S' : 2.4,\n",
    "        'C' : 3.0,\n",
    "        'N' : 2.4,\n",
    "        'O' : 2.4\n",
    "    }\n",
    "    new_center_coords = np.array([])\n",
    "    new_all_xyz_coords = np.array([])\n",
    "    dens_v_all = np.array([])\n",
    "    new_all_density_vals = np.array([])\n",
    "    b_all = np.array([])\n",
    "    q_all = np.array([])\n",
    "    new_spread = np.array([])\n",
    "    all_altlocs = np.unique(res.altloc) \n",
    "    for a in all_altlocs:\n",
    "        poss_idx = np.where(np.array((res.altloc=='')*1 + (res.altloc==a)*1)>=1)[0] \n",
    "        name2idx = dict(zip(res.name[poss_idx], poss_idx))\n",
    "      #  name2idx = dict(zip(res.name[poss_idx], np.arange(len(res.name[poss_idx]))))\n",
    "        res_coords = res.coor[poss_idx]\n",
    "        res_names = res.name[poss_idx]\n",
    "        for atom_set_spec, atom_set_gen in DICT4A[res.resn[0]].items(): # go through each set of 4 atoms in this residue\n",
    "            n_idx=[]\n",
    "            contin = True\n",
    "            all_atoms = [y for x in atom_set_spec\n",
    "                                     for y in (x if isinstance(x, tuple) else (x,))]\n",
    "            # this is to determine the dihedral angle and coordinates of atoms\n",
    "            if 'YR1' in atom_set_gen or 'FR1' in atom_set_gen or 'WR1' in atom_set_gen:\n",
    "                coords = []\n",
    "                all_coords = []\n",
    "                for at in atom_set_spec:\n",
    "                    if len(at)>4: # if part of ring\n",
    "                        ring_idx = [name2idx[e] for e in at]\n",
    "                        if len(ring_idx) == len(at):\n",
    "                            ring_coords = res.coor[ring_idx]\n",
    "                            ring_com = sum(ring_coords)/len(ring_coords) \n",
    "                            coords.append(ring_com)\n",
    "                            for rc in ring_coords:\n",
    "                                all_coords.append(rc)\n",
    "                    else: # otherwise we deal with it normally\n",
    "                        coords.append(res.coor[name2idx[at]])\n",
    "                        all_coords.append(res.coor[name2idx[at]])\n",
    "                dih_val = new_dihedral(np.array(coords))\n",
    "                bucket=[]\n",
    "            else:\n",
    "                for at_s in all_atoms:\n",
    "                    if at_s in list(res.name):\n",
    "                        n_idx.append(list(res.name).index(at_s))\n",
    "                    else:\n",
    "                        contin = False\n",
    "                if contin == True:\n",
    "                    coords = res.coor[n_idx]\n",
    "                    all_coords = coords\n",
    "                    dih_val = new_dihedral(np.array(coords))\n",
    "                    bucket=[]\n",
    "            # if dih cluster is just one peak\n",
    "            if len(np.array(min_ang[tuple(atom_set_gen)])) == 0:\n",
    "                dih_id = 0\n",
    "            # otherwise determine the right bucket\n",
    "            else:\n",
    "                diff_from_mins = dih_val - np.array(min_ang[tuple(atom_set_gen)])\n",
    "                closest_min_idx = np.argsort(abs(diff_from_mins))[0]\n",
    "                if diff_from_mins[closest_min_idx]>0:\n",
    "                    bucket.append(closest_min_idx+1)\n",
    "                else:\n",
    "                    bucket.append(closest_min_idx)\n",
    "                if cont_dict[tuple(atom_set_gen)]:\n",
    "                    bucket = np.array(bucket) + (np.array(bucket)==0)*(len(min_ang[tuple(atom_set_gen)]))\n",
    "                dih_id = bucket[0]\n",
    "            # this is for if we want to keep only a high density subset\n",
    "            if use_cutoff:\n",
    "                idx = cutoff_idx[tuple(atom_set_gen)][dih_id]\n",
    "                all_wat_xyz_coords = np.array(all_xyz_coords[tuple(atom_set_gen)][dih_id])[idx]\n",
    "                dens_vals = np.array(all_density_vals[tuple(atom_set_gen)][dih_id])[idx]\n",
    "                bvals = np.array(rel_b_list[tuple(atom_set_gen)][dih_id])[idx]\n",
    "                qvals = np.array(q_list[tuple(atom_set_gen)][dih_id])[idx]\n",
    "            else:\n",
    "                all_wat_xyz_coords = np.array(all_xyz_coords[tuple(atom_set_gen)][dih_id])\n",
    "                dens_vals = np.array(all_density_vals[tuple(atom_set_gen)][dih_id])\n",
    "                bvals = np.array(rel_b_list[tuple(atom_set_gen)][dih_id])\n",
    "                qvals = np.array(q_list[tuple(atom_set_gen)][dih_id])\n",
    "            p1 = all_coord_info[tuple(atom_set_gen)][dih_id][0]\n",
    "            wat_centers = center_coords[tuple(atom_set_gen)][dih_id]\n",
    "            sp = spread[tuple(atom_set_gen)][dih_id]\n",
    "            R, t = rigid_transform_3D(np.array(p1).T, np.array(coords).T)\n",
    "            new_center_coords_tmp=[]\n",
    "            new_all_xyz_coords_tmp=[]\n",
    "            new_spread_tmp=[]\n",
    "            btemp=[]\n",
    "            qtemp=[]\n",
    "            dtemp=[]\n",
    "            for wi, si in zip(wat_centers, sp):\n",
    "                # we want to do some stuff to remove center too close to atoms in the residue\n",
    "                wat_xyz=(np.dot(R, np.array(wi).T)+t.T)[0]\n",
    "                dist2wat = cdist([wat_xyz], res_coords)[0]\n",
    "                prod = np.full((dist2wat.shape), True)\n",
    "                for d, rn in zip(dist2wat, res_names):\n",
    "                    non_clash_tmp = (d>dict_dist[rn[0]])                        \n",
    "                    prod = prod*non_clash_tmp\n",
    "                cutoff = np.where(prod)[0]\n",
    "                if len(cutoff)==len(res_coords):\n",
    "                    new_center_coords_tmp.append(wat_xyz)\n",
    "                    new_spread_tmp.append(si)\n",
    "            for wi, bv, dv, qv in zip(all_wat_xyz_coords, bvals, dens_vals, qvals): \n",
    "                # we want to do some stuff to remove waters too close to atoms in the residue\n",
    "                wat_xyz=(np.dot(R, np.array(wi).T)+t.T)[0]\n",
    "                dist2wat = cdist([wat_xyz], res_coords)[0]\n",
    "                prod = np.full((dist2wat.shape), True)\n",
    "                for d, rn in zip(dist2wat, res_names):\n",
    "                    non_clash_tmp = (d>dict_dist[rn[0]])                        \n",
    "                    prod = prod*non_clash_tmp\n",
    "                cutoff = np.where(prod)[0]\n",
    "                if len(cutoff)==len(res_coords):\n",
    "                    new_all_xyz_coords_tmp.append(wat_xyz)\n",
    "                    btemp.append(bv)\n",
    "                    dtemp.append(dv)\n",
    "                    qtemp.append(qv)\n",
    "            # add to output lists\n",
    "            new_center_coords = np.append(new_center_coords, new_center_coords_tmp)\n",
    "            new_all_xyz_coords = np.append(new_all_xyz_coords, new_all_xyz_coords_tmp)\n",
    "            dens_v_all = np.append(dens_v_all, dtemp)\n",
    "            b_all = np.append(b_all, btemp)\n",
    "            q_all = np.append(q_all, qtemp)\n",
    "            new_spread = np.append(new_spread, new_spread_tmp)\n",
    "    return new_center_coords, new_all_xyz_coords, dens_v_all, b_all, q_all, new_spread"
   ]
  },
  {
   "cell_type": "code",
   "execution_count": 301,
   "id": "d27bd38f",
   "metadata": {
    "ExecuteTime": {
     "end_time": "2022-04-01T08:03:47.091015Z",
     "start_time": "2022-04-01T08:03:47.085559Z"
    },
    "code_folding": [
     0
    ],
    "hidden": true
   },
   "outputs": [],
   "source": [
    "def place_all_wat(s, \n",
    "                  all_coord_info, \n",
    "                  center_coords, \n",
    "                  min_ang, \n",
    "                  spread, \n",
    "                  all_density_vals, \n",
    "                  cont_dict,\n",
    "                  cutoff_idx,\n",
    "                  all_xyz_coords,\n",
    "                  rel_b_list,\n",
    "                  q_list,\n",
    "                  use_cutoff=False):\n",
    "    '''\n",
    "    lazy function for placing waters on a whole pdb structure\n",
    "    '''\n",
    "    prot = s.extract('resn', 'HOH', '!=').coor\n",
    "    out_coords = np.array([])\n",
    "    sz_all = np.array([])\n",
    "    out_coords_all={}\n",
    "    out_coords_all_dens={}\n",
    "    for r in list(s.residues):\n",
    "        if r.resn[0] in list(DICT4A.keys()):\n",
    "            new_coords, new_all_xyz_coords, dens_v_all, b_all, q_all, new_spread = get_new_coords(all_coord_info,\n",
    "                                                                                       r, \n",
    "                                                                                       center_coords, \n",
    "                                                                                       min_ang, \n",
    "                                                                                       spread, \n",
    "                                                                                       all_density_vals, \n",
    "                                                                                       cont_dict,\n",
    "                                                                                       cutoff_idx,\n",
    "                                                                                       all_xyz_coords,\n",
    "                                                                                       rel_b_list,\n",
    "                                                                                       q_list,\n",
    "                                                                                       use_cutoff\n",
    "                                                                                     )\n",
    "            min_d = np.min(cdist(new_coords.reshape(-1,3), prot), axis=1)\n",
    "            # veryyy loose cuttoff here to not include waters\n",
    "            out_coords = np.append(out_coords, new_coords.reshape(-1,3)[np.where(min_d>2.1)])\n",
    "            sz_all = np.append(sz_all, new_spread[np.where(min_d>2.1)])\n",
    "            \n",
    "            out_coords_all[(r.chain[0], r.resi[0])] = new_all_xyz_coords.reshape(-1,3)\n",
    "            out_coords_all_dens[(r.chain[0], r.resi[0])] = dens_v_all\n",
    "    return out_coords, out_coords_all, out_coords_all_dens, sz_all"
   ]
  },
  {
   "cell_type": "code",
   "execution_count": 43,
   "id": "2caa1708",
   "metadata": {
    "ExecuteTime": {
     "end_time": "2022-03-31T23:03:01.145413Z",
     "start_time": "2022-03-31T23:03:01.137581Z"
    },
    "code_folding": [
     0
    ],
    "hidden": true
   },
   "outputs": [],
   "source": [
    "def build_density_pdb(xyz_coor, fn, density):\n",
    "    '''\n",
    "    builds a pdb file with waters around the residue (and density in b-factor column).\n",
    "    '''\n",
    "    listy_wat = {}\n",
    "    count=1\n",
    "    # max of 10000 waters bc otherwise the pdb breaks since this is a very hacky way of building a pdb lol\n",
    "    sample = len(density)//10000 + 1 \n",
    "    for i, (xi, yi, zi, di) in enumerate(zip(np.array(xyz_coor)[:,0][::sample],\n",
    "                                             np.array(xyz_coor)[:,1][::sample],\n",
    "                                             np.array(xyz_coor)[:,2][::sample], \n",
    "                                        np.array(density)[::sample])):\n",
    "        count=count+1\n",
    "        listy_wat[i] = ['HETATM', str(count), 'O', 'HOH', str(count), str(format(xi, '.3f')), str(format(yi, '.3f')), str(format(zi, '.3f')), '1.00', str(format(di, '.3f')), 'O']\n",
    "\n",
    "    file = fn\n",
    "    file = open(file, \"w\") \n",
    "    for row in list(listy_wat.values()):\n",
    "        file.write(\"{: >1} {: >4} {: >2} {: >5} {: >5} {: >11} {: >7} {: >7} {: >5} {: >5} {: >11}\\n\".format(*row))\n",
    "    file.close()\n",
    "    return"
   ]
  },
  {
   "cell_type": "code",
   "execution_count": 388,
   "id": "0609fcb4",
   "metadata": {
    "ExecuteTime": {
     "end_time": "2022-04-01T21:06:11.876237Z",
     "start_time": "2022-04-01T21:06:11.864460Z"
    },
    "code_folding": [],
    "hidden": true
   },
   "outputs": [],
   "source": [
    "def build_center_placement_pdb(xyz_coor, pdb_fn, sphere_size_fn, spread):\n",
    "    '''\n",
    "    builds a pdb file with centers of clusters, as well as a pml file to size the\n",
    "    centers by their spread.\n",
    "    '''\n",
    "    listy_wat = {}\n",
    "    count=1\n",
    "    for i, (xi, yi, zi) in enumerate(zip(np.array(xyz_coor)[:,0],\n",
    "                                         np.array(xyz_coor)[:,1],\n",
    "                                         np.array(xyz_coor)[:,2])):\n",
    "        listy_wat[i] = ['HETATM', str(i+1), 'O', 'HOH', str(i+1), str(format(xi, '.3f')), str(format(yi, '.3f')), str(format(zi, '.3f')), '1.00', '1.00', 'O']\n",
    "    file = pdb_fn\n",
    "    file = open(file, \"w\") \n",
    "    for row in list(listy_wat.values()):\n",
    "        file.write(\"{: >1} {: >4} {: >2} {: >5} {: >5} {: >11} {: >7} {: >7} {: >5} {: >5} {: >11}\\n\".format(*row))\n",
    "    file.close()\n",
    "    with open(sphere_size_fn, 'w') as f:\n",
    "        for i, rad in enumerate(spread): \n",
    "            print(rad)\n",
    "            f.write('show spheres, resi %s and %s\\n' % (i, pdb_fn[:-4]))\n",
    "            f.write('set sphere_scale, %s, resi %s and %s\\n' % (rad/3, i, pdb_fn[:-4]))\n",
    "    return"
   ]
  },
  {
   "cell_type": "markdown",
   "id": "879705fb",
   "metadata": {},
   "source": [
    "# load in data"
   ]
  },
  {
   "cell_type": "code",
   "execution_count": 26,
   "id": "0008756f",
   "metadata": {
    "ExecuteTime": {
     "end_time": "2022-03-31T23:00:48.323559Z",
     "start_time": "2022-03-31T23:00:48.318902Z"
    }
   },
   "outputs": [],
   "source": [
    "os.chdir('/wynton/home/rotation/ckuhn/Desktop/Fraser_lab/water-scripts/4_atom_scripts/out')"
   ]
  },
  {
   "cell_type": "code",
   "execution_count": 318,
   "id": "7e962661",
   "metadata": {
    "ExecuteTime": {
     "end_time": "2022-04-01T16:53:47.432488Z",
     "start_time": "2022-04-01T16:53:06.482683Z"
    }
   },
   "outputs": [],
   "source": [
    "pt=60\n",
    "length = 50000\n",
    "center_coords = np.load(f'center_coor_{length}_{pt}.npy',allow_pickle='TRUE').item()\n",
    "cont_dict = np.load('cont_dict.npy',allow_pickle='TRUE').item()\n",
    "cutoff_idx = np.load(f'cutoff_idx_{length}_{pt}.npy',allow_pickle='TRUE').item()\n",
    "cutoff_idx_all = np.load(f'cutoff_idx_{length}_all.npy',allow_pickle='TRUE').item()\n",
    "all_density_vals = np.load(f'density_vals_{length}_{pt}.npy',allow_pickle='TRUE').item()\n",
    "labels = np.load(f'labels_{length}_{pt}.npy',allow_pickle='TRUE').item()\n",
    "spread = np.load(f'spread_{length}_{pt}.npy',allow_pickle='TRUE').item()\n",
    "min_ang = np.load('min_ang.npy',allow_pickle='TRUE').item()\n",
    "max_ang = np.load('max_ang.npy',allow_pickle='TRUE').item()\n",
    "all_coord_info = np.load('dih_info.npy',allow_pickle='TRUE').item()\n",
    "all_xyz_coords = np.load(f'all_xyz_coords_{length}_{pt}.npy',allow_pickle='TRUE').item()\n",
    "rel_b_list = np.load(f'rel_b_list_{length}_{pt}.npy',allow_pickle='TRUE').item()\n",
    "q_list = np.load(f'q_list_{length}_{pt}.npy',allow_pickle='TRUE').item()"
   ]
  },
  {
   "cell_type": "markdown",
   "id": "e8d8c18a",
   "metadata": {},
   "source": [
    "# Analysis"
   ]
  },
  {
   "cell_type": "code",
   "execution_count": 319,
   "id": "cb51f88b",
   "metadata": {
    "ExecuteTime": {
     "end_time": "2022-04-01T16:53:56.480606Z",
     "start_time": "2022-04-01T16:53:54.519170Z"
    }
   },
   "outputs": [],
   "source": [
    "all_dens_vals=np.array([])\n",
    "for atom_set, atom_set_val in all_density_vals.items():\n",
    "    for dih, dens_val in atom_set_val.items():\n",
    "        all_dens_vals = np.append(all_dens_vals, dens_val)\n",
    "        \n",
    "all_b_vals=np.array([])\n",
    "for atom_set, atom_set_val in rel_b_list.items():\n",
    "    for dih, b_val in atom_set_val.items():\n",
    "        all_b_vals = np.append(all_b_vals, b_val)\n",
    "\n",
    "all_q_vals=np.array([])\n",
    "for atom_set, atom_set_val in q_list.items():\n",
    "    for dih, q_val in atom_set_val.items():\n",
    "        all_q_vals = np.append(all_q_vals, q_val)"
   ]
  },
  {
   "cell_type": "code",
   "execution_count": 323,
   "id": "de59c757",
   "metadata": {
    "ExecuteTime": {
     "end_time": "2022-04-01T16:54:17.043913Z",
     "start_time": "2022-04-01T16:54:16.710390Z"
    }
   },
   "outputs": [
    {
     "data": {
      "image/png": "[encoded data removed]",
      "text/plain": [
       "<Figure size 432x288 with 1 Axes>"
      ]
     },
     "metadata": {
      "needs_background": "light"
     },
     "output_type": "display_data"
    }
   ],
   "source": [
    "plt.hist(np.exp(all_dens_vals)[all_b_vals<1], density=True, alpha=.5, bins=30)\n",
    "plt.hist(np.exp(all_dens_vals)[all_b_vals>5], density=True, alpha=.5, bins=30)\n",
    "plt.legend(['b val < 1', 'b val > 5'], fontsize=15)\n",
    "plt.title('Comparing density with different normalized b values', fontsize=15)\n",
    "plt.xlabel('density values', fontsize=20)\n",
    "plt.show()"
   ]
  },
  {
   "cell_type": "code",
   "execution_count": 321,
   "id": "9aa449ab",
   "metadata": {
    "ExecuteTime": {
     "end_time": "2022-04-01T16:53:59.184390Z",
     "start_time": "2022-04-01T16:53:58.760530Z"
    }
   },
   "outputs": [
    {
     "data": {
      "image/png": "[encoded data removed]",
      "text/plain": [
       "<Figure size 432x288 with 1 Axes>"
      ]
     },
     "metadata": {
      "needs_background": "light"
     },
     "output_type": "display_data"
    }
   ],
   "source": [
    "plt.hist(np.exp(all_dens_vals)[all_q_vals==1], density=True, alpha=.5, bins=30)\n",
    "plt.hist(np.exp(all_dens_vals)[all_q_vals<1], density=True, alpha=.5, bins=30)\n",
    "plt.legend(['q val = 1', 'q val < 1'], fontsize=15)\n",
    "plt.title('Comparing density with different occupancy values', fontsize=15)\n",
    "plt.xlabel('density values', fontsize=20)\n",
    "plt.show()"
   ]
  },
  {
   "cell_type": "code",
   "execution_count": 37,
   "id": "d1e27363",
   "metadata": {
    "ExecuteTime": {
     "end_time": "2022-03-31T23:02:51.491025Z",
     "start_time": "2022-03-31T23:02:51.375071Z"
    }
   },
   "outputs": [],
   "source": [
    "s Structure.fromfile('/wynton/home/rotation/ckuhn/Desktop/Fraser_lab/pdb_files/download2/all2/3US6/3US6.pdb').reorder()"
   ]
  },
  {
   "cell_type": "code",
   "execution_count": 390,
   "id": "38d7225b",
   "metadata": {
    "ExecuteTime": {
     "end_time": "2022-04-01T21:06:40.863683Z",
     "start_time": "2022-04-01T21:06:40.858964Z"
    }
   },
   "outputs": [],
   "source": [
    "res = list(s.residues)[142]"
   ]
  },
  {
   "cell_type": "code",
   "execution_count": 391,
   "id": "7b93c040",
   "metadata": {
    "ExecuteTime": {
     "end_time": "2022-04-01T21:06:45.075188Z",
     "start_time": "2022-04-01T21:06:43.225215Z"
    }
   },
   "outputs": [],
   "source": [
    "new_coords, new_all_xyz_coords, dens_v_all, b_all, q_all, new_spread = get_new_coords(all_coord_info,\n",
    "                                                                                       res, \n",
    "                                                                                       center_coords, \n",
    "                                                                                       min_ang, \n",
    "                                                                                       spread, \n",
    "                                                                                       all_density_vals, \n",
    "                                                                                       cont_dict,\n",
    "                                                                                       cutoff_idx,\n",
    "                                                                                       all_xyz_coords,\n",
    "                                                                                       rel_b_list,\n",
    "                                                                                       q_list,\n",
    "                                                                                       use_cutoff=False\n",
    "                                                                                     )"
   ]
  },
  {
   "cell_type": "code",
   "execution_count": 392,
   "id": "41ef45ab",
   "metadata": {
    "ExecuteTime": {
     "end_time": "2022-04-01T21:06:46.239659Z",
     "start_time": "2022-04-01T21:06:46.163763Z"
    }
   },
   "outputs": [],
   "source": [
    "build_density_pdb(new_all_xyz_coords.reshape(-1,3), \n",
    "                  '3us6_test_all_res_144_2.pdb', \n",
    "                  np.exp(dens_v_all))"
   ]
  },
  {
   "cell_type": "code",
   "execution_count": 389,
   "id": "89f4584b",
   "metadata": {
    "ExecuteTime": {
     "end_time": "2022-04-01T21:06:14.802873Z",
     "start_time": "2022-04-01T21:06:14.795087Z"
    },
    "collapsed": true
   },
   "outputs": [
    {
     "name": "stdout",
     "output_type": "stream",
     "text": [
      "2.0418458598324944\n",
      "2.1972018338152557\n",
      "2.202457743268116\n",
      "1.7925537660399933\n",
      "1.9355408531237424\n",
      "1.9391968118988492\n",
      "1.9373271350744916\n",
      "1.9542196876866456\n",
      "1.8290801363687195\n",
      "2.8222663918479864\n",
      "2.6694740177939997\n",
      "1.951258604789003\n",
      "2.0418458598324944\n",
      "2.1972018338152557\n",
      "2.202457743268116\n",
      "1.7925537660399933\n",
      "1.9355408531237424\n",
      "1.9391968118988492\n",
      "1.9373271350744916\n",
      "1.9542196876866456\n",
      "1.8290801363687195\n",
      "2.8222663918479864\n",
      "2.6694740177939997\n",
      "1.951258604789003\n"
     ]
    }
   ],
   "source": [
    "build_center_placement_pdb(new_coords.reshape(-1,3), \n",
    "                           '3us6_test_centers.pdb',\n",
    "                           '3us6_test_centers.pml', \n",
    "                           new_spread)"
   ]
  },
  {
   "cell_type": "code",
   "execution_count": null,
   "id": "8f7c4eea",
   "metadata": {},
   "outputs": [],
   "source": [
    "out_coords, out_coords_all, out_coords_all_dens, sz_all = place_all_wat(all_coord_info,\n",
    "                                                                       s, \n",
    "                                                                       center_coords, \n",
    "                                                                       min_ang, \n",
    "                                                                       spread, \n",
    "                                                                       all_density_vals, \n",
    "                                                                       cont_dict,\n",
    "                                                                       cutoff_idx,\n",
    "                                                                       all_xyz_coords,\n",
    "                                                                       rel_b_list,\n",
    "                                                                       q_list,\n",
    "                                                                       use_cutoff=False\n",
    "                                                                       )"
   ]
  }
 ],
 "metadata": {
  "kernelspec": {
   "display_name": "Python 3",
   "language": "python",
   "name": "python3"
  },
  "language_info": {
   "codemirror_mode": {
    "name": "ipython",
    "version": 3
   },
   "file_extension": ".py",
   "mimetype": "text/x-python",
   "name": "python",
   "nbconvert_exporter": "python",
   "pygments_lexer": "ipython3",
   "version": "3.8.8"
  },
  "toc": {
   "base_numbering": 1,
   "nav_menu": {},
   "number_sections": true,
   "sideBar": true,
   "skip_h1_title": false,
   "title_cell": "Table of Contents",
   "title_sidebar": "Contents",
   "toc_cell": false,
   "toc_position": {},
   "toc_section_display": true,
   "toc_window_display": false
  }
 },
 "nbformat": 4,
 "nbformat_minor": 5
}
